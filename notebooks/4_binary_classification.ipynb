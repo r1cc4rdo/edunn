{
 "cells": [
  {
   "cell_type": "markdown",
   "metadata": {
    "collapsed": true
   },
   "source": [
    "# Binary classification"
   ]
  },
  {
   "cell_type": "code",
   "execution_count": null,
   "metadata": {},
   "outputs": [],
   "source": [
    "from random import choice\n",
    "from utils.sugar import *\n",
    "\n",
    "dataset = (((1.2, 0.7), +1.0), ((-0.3, 0.5), -1.0), ((-3.0, -1.0), +1.0),\n",
    "           ((0.1, 1.0), -1.0), ((3.0, 1.1), -1.0), ((2.1, -3.0), +1.0))\n",
    "\n",
    "a, b, c = param(1, -2, -1)  # initial solution\n",
    "x, y, label = const(0, 0, 0)  # not affected by backprop\n",
    "f = minimum(1, label * (a * x + b * y + c))\n",
    "\n",
    "for iteration in range(35001):\n",
    "\n",
    "    if iteration % 2500 == 0 or (iteration % 10 == 0 and iteration < 40):\n",
    "        correct = sum(f.compute() > 0 for (x.val, y.val), label.val in dataset)\n",
    "        print 'Accuracy at iteration {}: {:.1f} [{:.2f} {:.2f} {:.2f}]'.format(\n",
    "            iteration, (100.0 * correct) / len(dataset), a.val, b.val, c.val)\n",
    "\n",
    "    (x.val, y.val), label.val = choice(dataset)\n",
    "    f.compute()\n",
    "    f.backprop()\n",
    "    \n",
    "    # a.grad += -a.val\n",
    "    # b.grad += -b.val\n",
    "\n",
    "    f.update_parameters(0.1)"
   ]
  },
  {
   "cell_type": "markdown",
   "metadata": {},
   "source": [
    "Javascript code\n",
    "```javascript\n",
    "var n1 = Math.max(0, a1*x + b1*y + c1); // activation of 1st hidden neuron\n",
    "var n2 = Math.max(0, a2*x + b2*y + c2); // 2nd neuron\n",
    "var n3 = Math.max(0, a3*x + b3*y + c3); // 3rd neuron\n",
    "var score = a4*n1 + b4*n2 + c4*n3 + d4;\n",
    "```"
   ]
  },
  {
   "cell_type": "code",
   "execution_count": null,
   "metadata": {},
   "outputs": [],
   "source": [
    "from random import random\n",
    "from utils.sugar import *\n",
    "\n",
    "dataset = (((1.2, 0.7), +1.0), ((-0.3, 0.5), -1.0), ((-3.0, -1.0), +1.0),\n",
    "           ((0.1, 1.0), -1.0), ((3.0, 1.1), -1.0), ((2.1, -3.0), +1.0))\n",
    "\n",
    "\n",
    "def hn(xx, yy):  # hidden neuron relu(ax + by + c)\n",
    "    return relu(param() * xx + param() * yy + param())\n",
    "\n",
    "\n",
    "x, y = const(0, 0)  # score = w_0 + sum_1^3 w_i * hn_i(x, y)\n",
    "score = summation([param()] + [param() * hn(x, y) for _ in range(3)])\n",
    "\n",
    "for par in score.parameters():  # randomly initialize weights\n",
    "    par.val = random() - 0.5\n",
    "\n",
    "for iteration in range(35001):\n",
    "\n",
    "    if iteration % 2500 == 0 or (iteration % 10 == 0 and iteration < 40):\n",
    "        correct = sum(score.compute() > 0 for (x.val, y.val), label.val in dataset)\n",
    "        print 'Accuracy at iteration {}: {:.1f} [{:.2f} {:.2f} {:.2f}]'.format(\n",
    "            iteration, (100.0 * correct) / len(dataset), a.val, b.val, c.val)\n",
    "\n",
    "    (x.val, y.val), label.val = choice(dataset)\n",
    "    score.compute()\n",
    "    score.backprop(0.01)\n"
   ]
  }
 ],
 "metadata": {
  "kernelspec": {
   "display_name": "Python 2",
   "language": "python",
   "name": "python2"
  },
  "language_info": {
   "codemirror_mode": {
    "name": "ipython",
    "version": 2
   },
   "file_extension": ".py",
   "mimetype": "text/x-python",
   "name": "python",
   "nbconvert_exporter": "python",
   "pygments_lexer": "ipython2",
   "version": "2.7.6"
  }
 },
 "nbformat": 4,
 "nbformat_minor": 0
}
