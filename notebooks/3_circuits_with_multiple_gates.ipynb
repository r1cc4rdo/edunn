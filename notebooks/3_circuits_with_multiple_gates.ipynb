{
 "cells": [
  {
   "cell_type": "markdown",
   "metadata": {
    "collapsed": true
   },
   "source": [
    "# Recursive Case: Circuits with Multiple Gates\n",
    "\n",
    "Here's an example with multiple gates that depend on each other:"
   ]
  },
  {
   "cell_type": "code",
   "execution_count": null,
   "metadata": {},
   "outputs": [],
   "source": [
    "x, y, z = param(-2, 5, -4)\n",
    "xpyz = (x + y) * z\n",
    "\n",
    "print 'Initial output: {:}'.format(xpyz.compute())  # -12\n",
    "xpyz.backprop(0.01)\n",
    "print 'Final output: {:.4}'.format(xpyz.compute())  # -11.59"
   ]
  },
  {
   "cell_type": "markdown",
   "metadata": {},
   "source": [
    "Let's compare analytical and numerical gradients:"
   ]
  },
  {
   "cell_type": "code",
   "execution_count": null,
   "metadata": {},
   "outputs": [],
   "source": [
    "from tests.numerical_gradients import check_gradients\n",
    "assert(check_gradients(xpyz, verbose=True))"
   ]
  },
  {
   "cell_type": "markdown",
   "metadata": {},
   "source": [
    "# Example: single neuron\n",
    "\n",
    "A 2-dimensional neuron computes the following function f(x,y,a,b,c) = σ(ax + by + c) where σ is the sigmoid function."
   ]
  },
  {
   "cell_type": "code",
   "execution_count": null,
   "metadata": {},
   "outputs": [],
   "source": [
    "a, b, c = param(1.0, 2.0, -3.0)\n",
    "x, y = const(-1.0, 3.0)\n",
    "s = sigmoid(a * x + b * y + c)\n",
    "\n",
    "assert(check_gradients(s, verbose=True))\n",
    "print '---'\n",
    "print 'Initial output: {}'.format(s.compute())  # 0.880797077978\n",
    "s.backprop(lr=0.01)\n",
    "print 'Final output: {}'.format(s.compute())  # 0.882"
   ]
  },
  {
   "cell_type": "markdown",
   "metadata": {},
   "source": [
    "A single neuron can also be defined as a single gate with five inputs:"
   ]
  },
  {
   "cell_type": "code",
   "execution_count": null,
   "metadata": {},
   "outputs": [],
   "source": [
    "a, b, c = param(1.0, 2.0, -3.0)\n",
    "x, y = const(-1.0, 3.0)\n",
    "n = neuron(a, x, b, y, c)\n",
    "\n",
    "assert(check_gradients(n, verbose=True))\n",
    "print '---'\n",
    "print 'Initial output: {}'.format(n.compute())  # 0.880797077978\n",
    "n.backprop(lr=0.01)\n",
    "print 'Final output: {}'.format(n.compute())  # 0.882"
   ]
  }
 ],
 "metadata": {
  "kernelspec": {
   "display_name": "Python 2",
   "language": "python",
   "name": "python2"
  },
  "language_info": {
   "codemirror_mode": {
    "name": "ipython",
    "version": 2
   },
   "file_extension": ".py",
   "mimetype": "text/x-python",
   "name": "python",
   "nbconvert_exporter": "python",
   "pygments_lexer": "ipython2",
   "version": "2.7.6"
  }
 },
 "nbformat": 4,
 "nbformat_minor": 0
}
